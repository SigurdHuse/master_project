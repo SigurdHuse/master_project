{
 "cells": [
  {
   "cell_type": "code",
   "execution_count": null,
   "metadata": {},
   "outputs": [],
   "source": [
    "import torch\n",
    "import torch.autograd as tgrad\n",
    "import numpy as np\n",
    "import matplotlib.pyplot as plt\n",
    "import torch.nn as nn"
   ]
  },
  {
   "cell_type": "code",
   "execution_count": null,
   "metadata": {},
   "outputs": [],
   "source": [
    "import numpy as np\n",
    "X1 = np.loadtxt(\"results/rmse_data_with_fourier.txt\")\n",
    "print(f\"{X1.mean():e}\")\n",
    "print(f\"{X1.std():e}\")\n",
    "print(f\"{X1.max():e}\")\n",
    "print(f\"{X1.min():e}\")"
   ]
  },
  {
   "cell_type": "code",
   "execution_count": null,
   "metadata": {},
   "outputs": [],
   "source": [
    "X2 = np.loadtxt(\"results/rmse_data_no_fourier.txt\")\n",
    "print(f\"{X2.mean():e}\")\n",
    "print(f\"{X2.std():e}\")"
   ]
  },
  {
   "cell_type": "code",
   "execution_count": null,
   "metadata": {},
   "outputs": [],
   "source": [
    "X2 = np.loadtxt(\"results/rmse_data_multi_dim.txt\")\n",
    "print(f\"{X2.mean():e}\")\n",
    "print(f\"{X2.std():e}\")"
   ]
  },
  {
   "cell_type": "code",
   "execution_count": null,
   "metadata": {},
   "outputs": [],
   "source": [
    "X = np.load(\"results_backwards/average_sigma_backwards.npy\")\n",
    "plt.plot(X[0,:])"
   ]
  },
  {
   "cell_type": "code",
   "execution_count": null,
   "metadata": {},
   "outputs": [],
   "source": [
    "X = np.load(\"results_backwards/average_loss_backwards.npy\")\n",
    "print(X.shape)\n",
    "n = X.shape[0] // 2\n",
    "x = np.arange(0, n)\n",
    "plt.plot(x, X[:n, 1])\n",
    "plt.plot(x[1000:], X[1000:n, 0])\n",
    "plt.yscale(\"log\")"
   ]
  },
  {
   "cell_type": "code",
   "execution_count": null,
   "metadata": {},
   "outputs": [],
   "source": [
    "plt.scatter(X[:,0], X[:,1], c = X[:, 2])\n",
    "plt.colorbar()"
   ]
  },
  {
   "cell_type": "code",
   "execution_count": null,
   "metadata": {},
   "outputs": [],
   "source": [
    "X = np.load(\"important_results_backwards/sigmas_batch.npy\")\n",
    "weights = [1e-4, 1e-3, 1e-2, 1e-1, 1.0, 10, 100, 1000]\n",
    "batch_PDE=[512, 1024, 2048, 4096, 8192]\n",
    "batch_target=[8, 16, 32, 64]\n",
    "\n",
    "\n",
    "for i in range(0, 10):\n",
    "    plt.plot(X[i, :], label = f\"PDE = {batch_PDE[i // len(batch_target)]}, batch = {batch_target[i % len(batch_target)]}\")\n",
    "\n",
    "#plt.ylim([0, 0.6])\n",
    "#plt.yscale(\"log\")\n",
    "plt.legend(loc='center right', bbox_to_anchor=(1.5, 0.5))\n",
    "#plt.legend()"
   ]
  },
  {
   "cell_type": "code",
   "execution_count": null,
   "metadata": {},
   "outputs": [],
   "source": [
    "X = np.load(\"important_results_backwards/sigmas_batch_fine.npy\")\n",
    "batch_PDE=[128, 256, 512, 1024]\n",
    "batch_target=[32, 64, 96, 128]\n",
    "\n",
    "fig, ax = plt.subplots(1, 2, figsize=(12, 5))\n",
    "for i in range(min(8, X.shape[0])):\n",
    "    ax[0].plot(X[i, :], label = f\"PDE = {batch_PDE[i // len(batch_target)]}, batch = {batch_target[i % len(batch_target)]}\")\n",
    "ax[0].legend()\n",
    "\n",
    "for i in range(8, min(20, X.shape[0])):\n",
    "    ax[1].plot(X[i, :], label = f\"PDE = {batch_PDE[i // len(batch_target)]}, batch = {batch_target[i % len(batch_target)]}\")\n",
    "\n",
    "ax[1].legend(loc='center right', bbox_to_anchor=(1.5, 0.5))\n",
    "plt.show()\n",
    "#plt.ylim([0, 0.6])\n",
    "#plt.yscale(\"log\")\n",
    "#plt.legend()"
   ]
  },
  {
   "cell_type": "code",
   "execution_count": null,
   "metadata": {},
   "outputs": [],
   "source": []
  },
  {
   "cell_type": "code",
   "execution_count": null,
   "metadata": {},
   "outputs": [],
   "source": [
    "scale = [\"0.0\", \"1e-06\", \"1e-05\", \"0.0001\", \"0.001\", \"0.01\", \"0.1\", \"1.0\", \"10\", \"100\", \"1000\"]\n",
    "weights = [0.0, 1e-6, 1e-5, 1e-4, 1e-3, 1e-2, 1e-1, 1.0, 10, 100, 1000]\n",
    "for i, s in enumerate(scale):\n",
    "    X = np.load(f\"results_backwards/average_sigma_scale_{s}.npy\")\n",
    "    plt.plot(X[0], label = weights[i])\n",
    "plt.legend()"
   ]
  },
  {
   "cell_type": "code",
   "execution_count": null,
   "metadata": {},
   "outputs": [],
   "source": [
    "scale = [\"1.0\", \"10\", \"100\", \"1000\"] # [\"0.0\", \"1e-06\", \"1e-05\", \"0.0001\", \"0.001\", \"0.01\", \"0.1\", \n",
    "weights = [0.0, 1e-6, 1e-5, 1e-4, 1e-3, 1e-2, 1e-1, 1.0, 10, 100, 1000]\n",
    "\n",
    "fig, ax = plt.subplots(3,1)\n",
    "\n",
    "for s in scale:\n",
    "    X = np.load(f\"results_backwards/average_loss_scale_{s}.npy\")\n",
    "    #print(X.shape)\n",
    "    ax[0].plot(X[:10_000, 0], label = s)\n",
    "    ax[1].plot(X[:10_000, 1], label = s)\n",
    "    ax[2].plot(X[:10_000, 1] + X[:10_000, 0], label = s)\n",
    "\n",
    "ax[0].legend()\n",
    "ax[1].legend()\n",
    "ax[0].set_yscale(\"log\")\n",
    "ax[1].set_yscale(\"log\")\n",
    "ax[2].legend()\n",
    "ax[2].set_yscale(\"log\")"
   ]
  },
  {
   "cell_type": "code",
   "execution_count": null,
   "metadata": {},
   "outputs": [],
   "source": [
    "from src.data_generator import DataGeneratorEuropean1D, DataGeneratorEuropeanMultiDimensional\n",
    "import numpy as np\n",
    "import matplotlib.pyplot as plt\n",
    "import torch\n",
    "DEVICE = torch.device(\"cuda:0\" if torch.cuda.is_available() else \"cpu\")\n",
    "from src.PINN import PINNforwards\n",
    "config = {}\n",
    "config[\"K\"] = 10\n",
    "config[\"t_range\"] = [0, 1]\n",
    "config[\"S_range\"] = np.array([[0, 100],\n",
    "                              [0, 90],\n",
    "                              [0, 80],\n",
    "                              [0, 70]])\n",
    "\n",
    "config[\"sigma\"] = np.array([[0.05, 0.05, 0.1, 0.15, 0.1],\n",
    "                            [0.01, 0.1, 0.05, 0.05, 0.01],\n",
    "                            [0.01, 0.05, 0.1, 0.1, 0.15],\n",
    "                            [0.05, 0.1, 0.05, 0.15, 0.1],\n",
    "                            [0.1, 0.1, 0.01, 0.05, 0.05]])\n",
    "N = 1\n",
    "config[\"sigma\"] = np.full((N,N), 0.075)\n",
    "#config[\"cov\"] = config[\"sigma\"]@config[\"sigma\"].T\n",
    "#config[\"cov_torch\"] = torch.tensor(config[\"cov\"]).to(DEVICE)\n",
    "config[\"r\"] = 0.04\n",
    "\n",
    "sigma_eff_sq = 0\n",
    "\n",
    "for j in range(config[\"sigma\"].shape[0]):\n",
    "    tmp = 0\n",
    "    for i in range(config[\"sigma\"].shape[0]):\n",
    "        tmp += config[\"sigma\"][i, j]\n",
    "    sigma_eff_sq += tmp**2\n",
    "\n",
    "sigma_eff_sq /= config[\"sigma\"].shape[0]**2\n",
    "print(sigma_eff_sq)\n",
    "# print(sigma_eff_sq)\n",
    "sigma_eff = np.sqrt(sigma_eff_sq)\n",
    "def create_validation_data(dataloader:\n",
    "                           DataGeneratorEuropean1D, N_validation: int, config: dict) -> dict:\n",
    "    w_expiry = 1\n",
    "    w_lower = 1\n",
    "    w_upper = 1\n",
    "\n",
    "    validation_data = {}\n",
    "\n",
    "    expiry_x_tensor_validation, expiry_y_tensor_validation = dataloader.get_expiry_time_tensor(\n",
    "        N_validation, w_expiry)\n",
    "    expiry_x_tensor_validation_scaled = dataloader.normalize(\n",
    "        expiry_x_tensor_validation)\n",
    "    # config[\"encoder\"](expiry_x_tensor_validation)\n",
    "\n",
    "    validation_data[\"expiry_x_tensor_validation\"] = expiry_x_tensor_validation.to(\n",
    "        DEVICE)\n",
    "    validation_data[\"expiry_x_tensor_validation_scaled\"] = expiry_x_tensor_validation_scaled.to(\n",
    "        DEVICE)\n",
    "    validation_data[\"expiry_y_tensor_validation\"] = expiry_y_tensor_validation.to(\n",
    "        DEVICE)\n",
    "\n",
    "    lower_x_tensor_validation, lower_y_tensor_validation, upper_x_tensor_validation, upper_y_tensor_validation = dataloader.get_boundary_data_tensor(\n",
    "        N_validation, w_lower, w_upper)\n",
    "    lower_x_tensor_validation_scaled = dataloader.normalize(\n",
    "        lower_x_tensor_validation)\n",
    "\n",
    "    # config[\"encoder\"](\n",
    "    #    lower_x_tensor_validation)\n",
    "    upper_x_tensor_validation_scaled = dataloader.normalize(\n",
    "        upper_x_tensor_validation)\n",
    "\n",
    "    # config[\"encoder\"](    upper_x_tensor_validation)\n",
    "\n",
    "    validation_data[\"lower_x_tensor_validation\"] = lower_x_tensor_validation.to(\n",
    "        DEVICE)\n",
    "    validation_data[\"lower_x_tensor_validation_scaled\"] = lower_x_tensor_validation_scaled.to(\n",
    "        DEVICE)\n",
    "    validation_data[\"lower_y_tensor_validation\"] = lower_y_tensor_validation.to(\n",
    "        DEVICE)\n",
    "\n",
    "    validation_data[\"upper_x_tensor_validation\"] = upper_x_tensor_validation.to(\n",
    "        DEVICE)\n",
    "    validation_data[\"upper_x_tensor_validation_scaled\"] = upper_x_tensor_validation_scaled.to(\n",
    "        DEVICE)\n",
    "    validation_data[\"upper_y_tensor_validation\"] = upper_y_tensor_validation.to(\n",
    "        DEVICE)\n",
    "\n",
    "    X1_validation, y1_validation = dataloader.get_pde_data_tensor(\n",
    "        N_validation)\n",
    "    X1_validation_scaled = dataloader.normalize(X1_validation)\n",
    "    # config[\"encoder\"](X1_validation)\n",
    "\n",
    "    validation_data[\"X1_validation\"] = X1_validation\n",
    "\n",
    "    validation_data[\"X1_validation_scaled\"] = X1_validation_scaled\n",
    "\n",
    "    validation_data[\"y1_validation\"] = y1_validation\n",
    "\n",
    "    return validation_data"
   ]
  },
  {
   "cell_type": "code",
   "execution_count": null,
   "metadata": {},
   "outputs": [],
   "source": [
    "dataloader1D = DataGeneratorEuropean1D([0,1], [0, 600], 30, 0.04, sigma_eff, DEVICE, seed = 2024)\n",
    "torch.manual_seed(2024)\n",
    "np.random.seed(2024)\n",
    "dataloaderMulti = DataGeneratorEuropeanMultiDimensional(\n",
    "        time_range=config[\"t_range\"], S_range=config[\"S_range\"], K=config[\"K\"], r=config[\"r\"], sigma=config[\"sigma\"], DEVICE=DEVICE, seed=2024)\n",
    "\n",
    "validation_data = create_validation_data(\n",
    "    dataloader=dataloaderMulti, N_validation=1024, config=config)\n",
    "\n",
    "test_data = create_validation_data(\n",
    "    dataloader=dataloaderMulti, N_validation=20_000, config=config)"
   ]
  },
  {
   "cell_type": "code",
   "execution_count": null,
   "metadata": {},
   "outputs": [],
   "source": [
    "model = PINNforwards(5, 1, 256, 4, use_fourier_transform=False, sigma_FF=5.0, encoded_size=512)\n",
    "model.load_state_dict(torch.load(\"models/learning_0.001_512.pth\", weights_only=True))\n",
    "pde_X_scaled = test_data[\"X1_validation_scaled\"]\n",
    "pde_X = test_data[\"X1_validation\"]\n",
    "\n",
    "y_pde = model(pde_X_scaled).cpu().detach().numpy().ravel()\n",
    "y1 = dataloaderMulti.get_analytical_solution(pde_X[:, 1:], pde_X[:, 0])\n",
    "\n",
    "print(np.sqrt(np.mean((y1 - y_pde)**2)))"
   ]
  },
  {
   "cell_type": "code",
   "execution_count": null,
   "metadata": {},
   "outputs": [],
   "source": [
    "y_tmp = dataloader1D.get_analytical_solution( torch.exp(torch.mean(torch.log(pde_X[:, 1:]), dim = 1)), pde_X[:, 0])\n",
    "print(np.mean(np.abs(y_tmp - y1)))"
   ]
  },
  {
   "cell_type": "code",
   "execution_count": null,
   "metadata": {},
   "outputs": [],
   "source": [
    "X_loss = np.load(\"results/loss_learning_0.001_512.npy\")\n",
    "X_validation = np.load(\"results/validation_learning_0.001_512.npy\")\n",
    "\n",
    "types_of_loss = [\"total_loss\", \"loss_boundary\",\"loss_pde\", \"loss_expiry\", \"loss_lower\", \"loss_upper\"]\n",
    "\n",
    "for i in range(len(types_of_loss)):\n",
    "    plt.plot(X_validation[::10, i], label = types_of_loss[i])\n",
    "plt.yscale(\"log\")\n",
    "plt.legend()"
   ]
  },
  {
   "cell_type": "code",
   "execution_count": null,
   "metadata": {},
   "outputs": [],
   "source": []
  },
  {
   "cell_type": "code",
   "execution_count": null,
   "metadata": {},
   "outputs": [],
   "source": [
    "X_geometric = torch.exp(torch.mean(torch.log(pde_X[:, 1:]), dim = 1))\n",
    "X_tmp = X_geometric.cpu().detach().numpy()\n",
    "time = pde_X[:, 0].cpu().detach().numpy()\n",
    "mask = np.where(time <= 1.0) \n",
    "\n",
    "#y_1d= dataloader1D.get_analytical_solution(X_geometric, pde_X[:, 0])\n",
    "plt.scatter(time[mask], X_tmp[mask], c = y1[mask])\n",
    "plt.colorbar()\n",
    "plt.show()\n",
    "plt.scatter(time[mask], X_tmp[mask], c = y_pde[mask])\n",
    "plt.colorbar()\n",
    "plt.show()"
   ]
  },
  {
   "cell_type": "code",
   "execution_count": null,
   "metadata": {},
   "outputs": [],
   "source": [
    "from matplotlib.colors import LogNorm\n",
    "mask = np.where(time <= 1.0) \n",
    "plt.scatter(time[mask], X_tmp[mask], c = np.abs(y1[mask] - y_pde[mask]), norm=LogNorm())\n",
    "#plt.scatter(time[mask], X_tmp[mask], c = y_pde[mask])\n",
    "print(np.sqrt(np.mean((y1[mask] - y_pde[mask])**2)))\n",
    "plt.colorbar()"
   ]
  },
  {
   "cell_type": "code",
   "execution_count": null,
   "metadata": {},
   "outputs": [],
   "source": [
    "pde_X = test_data[\"X1_validation\"]\n",
    "y1 = dataloaderMulti.get_analytical_solution(pde_X[:, 1:], pde_X[:, 0])\n",
    "X_geometric = torch.exp(torch.mean(torch.log(pde_X[:, 1:]), dim = 1))\n",
    "y2 = dataloader1D.get_analytical_solution(X_geometric, pde_X[:, 0])\n",
    "\n",
    "print(np.mean((y1 - y2)**2))"
   ]
  },
  {
   "cell_type": "code",
   "execution_count": null,
   "metadata": {},
   "outputs": [],
   "source": [
    "np.mean(G - X_geometric.cpu().detach().numpy())\n",
    "#X_geometric"
   ]
  },
  {
   "cell_type": "code",
   "execution_count": null,
   "metadata": {},
   "outputs": [],
   "source": [
    "tmp_X1 = X_geometric.cpu().detach()\n",
    "tmp_X2 = pde_X.cpu().detach()\n",
    "plt.scatter(tmp_X2[:, 0], tmp_X1, c = y2, label = \"1D\")\n",
    "plt.colorbar()\n",
    "plt.legend()"
   ]
  },
  {
   "cell_type": "code",
   "execution_count": null,
   "metadata": {},
   "outputs": [],
   "source": [
    "plt.scatter(tmp_X2[:, 0], tmp_X1, c = y1, label = \"Multi\")\n",
    "plt.colorbar()\n",
    "plt.legend()"
   ]
  },
  {
   "cell_type": "code",
   "execution_count": null,
   "metadata": {},
   "outputs": [],
   "source": [
    "import numpy as np\n",
    "X = np.loadtxt(\"results/rmse_data_no_fourier.txt\")\n",
    "print(f\"{X.mean():e}, {X.std():e}\")\n",
    "X = np.loadtxt(\"results/rmse_data_with_fourier.txt\")\n",
    "print(f\"{X.mean():e}, {X.std():e}\")\n",
    "X = np.loadtxt(\"results/rmse_data_american_multiple.txt\")\n",
    "print(f\"{X.mean():e}, {X.std():e}\")"
   ]
  },
  {
   "cell_type": "code",
   "execution_count": null,
   "metadata": {},
   "outputs": [],
   "source": [
    "\n",
    "for scale in [\"0.0\", \"0.1\", \"0.01\", \"0.001\", \"0.0001\",\"1e-05\", \"1e-06\", \"10\", \"100\", \"1000\", \"5000\", \"10000\"]:\n",
    "    print(f\"Scale: {scale}\")\n",
    "    X = np.loadtxt(f\"results_backwards/rmse_data_scale_{scale}.txt\")\n",
    "    print(f\"{X.mean():e}, {X.std():e}\")\n"
   ]
  },
  {
   "cell_type": "code",
   "execution_count": null,
   "metadata": {},
   "outputs": [],
   "source": [
    "for scale in [0, 1, 2, 3, 4, \"one\", 10]:\n",
    "    print(f\"Scale: {scale}\")\n",
    "    X = np.loadtxt(f\"results_backwards/rmse_data_apple_data_{scale}.txt\")\n",
    "    print(f\"{X.mean():e}, {X.std():e}\")"
   ]
  },
  {
   "cell_type": "code",
   "execution_count": null,
   "metadata": {},
   "outputs": [],
   "source": [
    "import matplotlib.pyplot as plt\n",
    "import numpy as np\n",
    "\n",
    "fix, ax = plt.subplots(1,2,figsize=(12, 5))\n",
    "x = np.arange(0, 15_000, 1)\n",
    "\n",
    "for scale in [\"1e-05\", \"0.0001\", \"0.001\", \"0.0\", \"10\", \"1000\"]:\n",
    "    X_loss =  np.load(f\"results_backwards/average_loss_scale_{scale}.npy\")\n",
    "    X_loss =  X_loss[:X_loss.shape[0] // 2, :]\n",
    "\n",
    "    X_sigma =  np.load(f\"results_backwards/average_sigma_scale_{scale}.npy\")\n",
    "    X_sigma_std = X_sigma[X_sigma.shape[0]//2:, :]\n",
    "    X_sigma = X_sigma[: X_sigma.shape[0]//2, :]\n",
    "\n",
    "    ax[0].plot(x, X_loss[:, 1] + X_loss[:, 0], label = r\"$\\lambda_{PDE}$ =\" +f\"{scale}\")\n",
    "    ax[1].plot(x, X_sigma.ravel())\n",
    "    #ax[1].plot(x, X_sigma_std.ravel(), label = r\"$\\lambda_{PDE}$ =\" +f\"{scale}\")\n",
    "\n",
    "ax[1].plot(x, 0.5*np.ones(15_000), label =r\"True $\\sigma$\")\n",
    "ax[1].legend()\n",
    "ax[1].grid()\n",
    "ax[0].legend()\n",
    "ax[0].set_yscale(\"log\")\n",
    "ax[0].set_ylabel(\"Average loss\")\n",
    "ax[0].set_xlabel(\"Epoch\")\n",
    "\n",
    "ax[0].grid()\n",
    "ax[1].set_xlabel(\"Epoch\")\n",
    "ax[1].set_ylabel(r\"Average $\\sigma$\")\n",
    "plt.show()"
   ]
  },
  {
   "cell_type": "code",
   "execution_count": null,
   "metadata": {},
   "outputs": [],
   "source": [
    "fig, ax = plt.subplots(1, 2, figsize=(10, 4))\n",
    "\n",
    "X1 = np.load(\"results_backwards/sigma_scale_0.0001.npy\")\n",
    "X2 = np.load(\"results_backwards/sigma_scale_1000.npy\")\n",
    "\n",
    "for i in range(X1.shape[0]):\n",
    "    ax[0].plot(X1[i])\n",
    "    ax[1].plot(X2[i])\n",
    "print(X2[:, -5:])\n",
    "\n",
    "ax[0].set_title(r\"$\\lambda_{PDE} = 10^{-4}$\")\n",
    "ax[0].grid()\n",
    "ax[0].set_ylabel(r\"$\\sigma$\")\n",
    "ax[0].set_xlabel(\"Epoch\")\n",
    "ax[1].grid()\n",
    "ax[1].set_title(r\"$\\lambda_{PDE} = 1000$\")\n",
    "ax[1].set_ylabel(r\"$\\sigma$\")\n",
    "ax[1].set_xlabel(\"Epoch\")"
   ]
  },
  {
   "cell_type": "code",
   "execution_count": null,
   "metadata": {},
   "outputs": [],
   "source": [
    "import numpy as np \n",
    "import matplotlib.pyplot as plt \n",
    "\n",
    "X1 = np.load(\"results_backwards/average_loss_apple_data.npy\")\n",
    "X1 = np.load(\"results_backwards/average_loss_apple_data_no_lambda.npy\")\n",
    "n = X1.shape[0] //2\n",
    "#plt.plot(X1[:n, 0], label = \"PDE\")\n",
    "plt.plot(X1[:n, 1], label =\"Target\")\n",
    "plt.legend()\n",
    "plt.yscale(\"log\")"
   ]
  },
  {
   "cell_type": "code",
   "execution_count": null,
   "metadata": {},
   "outputs": [],
   "source": [
    "import numpy as np \n",
    "import matplotlib.pyplot as plt \n",
    "\n",
    "X_apple = np.load(\"data/apple_data_train.npy\")\n",
    "print(np.isnan(X_apple).any())\n",
    "plt.scatter(X_apple[:, 0], X_apple[:, 1])\n",
    "plt.show()"
   ]
  },
  {
   "cell_type": "code",
   "execution_count": null,
   "metadata": {},
   "outputs": [],
   "source": [
    "\n",
    "X = np.load(\"data/european_one_dimensional_train.npy\")\n",
    "print(X.shape)\n",
    "plt.scatter(X[:, 0], X[:, 1])"
   ]
  },
  {
   "cell_type": "code",
   "execution_count": null,
   "metadata": {},
   "outputs": [],
   "source": [
    "import numpy as np \n",
    "import matplotlib.pyplot as plt \n",
    "\n",
    "dims =  np.array(list(range(1, 11 + 1)))\n",
    "rmse = np.loadtxt(\"important_results/european_multi/RMSE_dim.txt\")\n",
    "timings = np.loadtxt(\"important_results/european_multi/timings_dim.txt\")\n",
    "\n",
    "\n",
    "fig, ax = plt.subplots(1, 2, figsize=(10, 4))\n",
    "ax[0].plot(dims, timings, label = \"Training time\", color = \"midnightblue\")\n",
    "ax[0].plot(dims, (dims + 10)**4, label = r\"$O(N^4)$\", color =\"red\")\n",
    "ax[0].legend()\n",
    "ax[0].set_xlabel(\"Dimension (N)\")\n",
    "ax[0].set_yscale(\"log\")\n",
    "ax[0].set_xscale(\"log\")\n",
    "ax[0].grid()\n",
    "\n",
    "ax[1].plot(dims, rmse, label = \"Test RMSE\")\n",
    "ax[1].plot(dims, (dims + 1)**4 - (dims + 0.999999)**4, label = r\"$O(N^4)$\")\n",
    "ax[1].set_xlabel(\"Dimension (N)\")\n",
    "ax[1].legend()\n",
    "ax[1].set_yscale(\"log\")\n",
    "ax[1].set_xscale(\"log\")\n",
    "ax[1].grid()"
   ]
  },
  {
   "cell_type": "code",
   "execution_count": null,
   "metadata": {},
   "outputs": [],
   "source": [
    "import numpy as np \n",
    "import matplotlib.pyplot as plt \n",
    "\n",
    "loss = np.load(\"results_backwards/average_loss_apple_data_0.npy\")\n",
    "val = np.load(\"results_backwards/average_validation_apple_data_0.npy\")\n",
    "n = loss.shape[0] // 2\n",
    "n2 = val.shape[0] // 2\n",
    "#plt.plot(loss[0])\n",
    "\n",
    "x_vals = np.arange(1, n + 1)\n",
    "val_x = np.arange(1, n2*10 + 1, 10)\n",
    "print(np.argmin(val[:n2])*10, n2)\n",
    "skip = 0\n",
    "every = 1\n",
    "plt.plot(x_vals[skip::every], loss[skip:n:every,0] + loss[skip:n:every,1], label = \"Loss\")\n",
    "#plt.plot(x_vals[skip::every], loss[skip:n:every,1], label = \"Loss Target\")\n",
    "plt.plot(val_x, val[:n2:1,0] + val[:n2:1,1], label = \"Validation\")\n",
    "#plt.plot(loss[:n:100,0])\n",
    "#plt.plot(loss[:n:100,1])\n",
    "#plt.ylim([1e-2, 1e14])\n",
    "plt.legend()\n",
    "plt.yscale(\"log\")"
   ]
  },
  {
   "cell_type": "code",
   "execution_count": null,
   "metadata": {},
   "outputs": [],
   "source": [
    "import numpy as np \n",
    "import matplotlib.pyplot as plt \n",
    "\n",
    "X1 = np.load(\"results_backwards/sigma_apple_data_1000.npy\")\n",
    "#print(X1[:, -1:])\n",
    "for i in range(X1.shape[0]):\n",
    "        plt.plot(np.abs(2 - X1[i]) + 1e-8)\n",
    "\n",
    "plt.yscale(\"log\")"
   ]
  },
  {
   "cell_type": "code",
   "execution_count": null,
   "metadata": {},
   "outputs": [],
   "source": []
  }
 ],
 "metadata": {
  "kernelspec": {
   "display_name": "Python 3",
   "language": "python",
   "name": "python3"
  },
  "language_info": {
   "codemirror_mode": {
    "name": "ipython",
    "version": 3
   },
   "file_extension": ".py",
   "mimetype": "text/x-python",
   "name": "python",
   "nbconvert_exporter": "python",
   "pygments_lexer": "ipython3",
   "version": "3.12.4"
  }
 },
 "nbformat": 4,
 "nbformat_minor": 2
}
