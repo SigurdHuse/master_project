{
 "cells": [
  {
   "cell_type": "code",
   "execution_count": null,
   "metadata": {},
   "outputs": [],
   "source": [
    "from PINN import PINN\n",
    "from dataloader import DataloaderEuropean1D\n",
    "import torch\n",
    "\n",
    "import logging\n",
    "from datetime import datetime\n",
    "\n",
    "N_EPOCH = 4_000\n",
    "LEARNING_RATE = 1e-5\n",
    "HIDDEN_LAYER = 6\n",
    "HIDDEN_WIDTH = 256\n",
    "N_sample = 8000\n",
    "PHYSICS_PENALTY = 52\n",
    "BVP1_PENALTY = 8\n",
    "DEVICE = torch.device(\"cuda:6\" if torch.cuda.is_available() else \"cpu\")\n",
    "torch.set_default_device(DEVICE)\n",
    "\n",
    "K = 40\n",
    "r = 0.05\n",
    "sigma = 0.2\n",
    "T = 1\n",
    "S_range = [0, 160]\n",
    "t_range = [0, T]\n",
    "\n",
    "euro_call_data = DataloaderEuropean1D(t_range, S_range, K, r, sigma, DEVICE)\n"
   ]
  },
  {
   "cell_type": "code",
   "execution_count": null,
   "metadata": {},
   "outputs": [],
   "source": [
    "physics_lr = PHYSICS_PENALTY\n",
    "optimizer = torch.optim.Adam(model.parameters(),lr=LEARNING_RATE)\n",
    "\n",
    "loss_history={\n",
    "    \"total_loss\":[],\"loss_ivp_bvp\":[],\"loss_BS\":[],\\\n",
    "    \"loss_bvp1\":[],\"loss_bvp2\":[],\"loss_ivp\":[],\n",
    "}\n"
   ]
  },
  {
   "cell_type": "code",
   "execution_count": 1,
   "metadata": {},
   "outputs": [],
   "source": [
    "import torch\n",
    "import torch.autograd as tgrad\n",
    "import numpy as np\n",
    "import matplotlib.pyplot as plt\n",
    "import torch.nn as nn"
   ]
  },
  {
   "cell_type": "code",
   "execution_count": null,
   "metadata": {},
   "outputs": [],
   "source": [
    "r_ivp,r_bvp1,r_bvp2 = 1,1,1\n",
    "for i in range(N_EPOCH):\n",
    "    model.train();\n",
    "    # Get IVP data\n",
    "    ivp_x_tensor,ivp_y_tensor = euro_call_data.get_expiry_time_tensor(N_sample,r_ivp)\n",
    "    print(ivp_y_tensor)\n",
    "    ivp_x_tensor = ivp_x_tensor.to(DEVICE)\n",
    "    ivp_y_tensor = ivp_y_tensor.to(DEVICE)\n",
    "    # ivp_x_tensor = euro_call_data.normalize(ivp_x_tensor)\n",
    "    ivp_y_pred = model(ivp_x_tensor)\n",
    "    mse_ivp = nn.MSELoss()(ivp_y_tensor, ivp_y_pred)\n",
    "\n",
    "    # Get BVP data\n",
    "    bvp_x1_tensor,bvp_y1_tensor,bvp_x2_tensor,bvp_y2_tensor = euro_call_data.get_boundary_data_tensor(N_sample,r_bvp1,r_bvp2)\n",
    "    bvp_x1_tensor,bvp_y1_tensor = bvp_x1_tensor.to(DEVICE),bvp_y1_tensor.to(DEVICE)\n",
    "    bvp_x2_tensor,bvp_y2_tensor = bvp_x2_tensor.to(DEVICE),bvp_y2_tensor.to(DEVICE)\n",
    "    # bvp_x1_tensor = euro_call_data.normalize(bvp_x1_tensor)\n",
    "    bvp_y1_pred = model(bvp_x1_tensor)\n",
    "    mse_bvp1 = nn.MSELoss()(bvp_y1_tensor, bvp_y1_pred)\n",
    "    # bvp_x2_tensor = euro_call_data.normalize(bvp_x2_tensor)\n",
    "    bvp_y2_pred = model(bvp_x2_tensor)\n",
    "    mse_bvp2 = nn.MSELoss()(bvp_y2_tensor, bvp_y2_pred)\n",
    "\n",
    "    # Aggregate the \"data loss\"\n",
    "    loss1 = mse_ivp + BVP1_PENALTY*mse_bvp1 + mse_bvp2\n",
    "\n",
    "    # Compute the \"Black-Scholes loss\"\n",
    "    X1,y1 = euro_call_data.get_pde_data(N_sample)\n",
    "    X1 = torch.from_numpy(X1).float().requires_grad_().to(DEVICE)\n",
    "    y1 = torch.from_numpy(y1).float().to(DEVICE)\n",
    "    y1_hat = model(X1)\n",
    "    grads = torch.autograd.grad(y1_hat, X1, grad_outputs=torch.ones(y1_hat.shape).to(DEVICE), retain_graph=True, create_graph=True, only_inputs=True)[0]\n",
    "    dVdt, dVdS = grads[:, 0].view(-1, 1), grads[:, 1].view(-1, 1)\n",
    "    grads2nd = torch.autograd.grad(dVdS, X1, grad_outputs=torch.ones(dVdS.shape).to(DEVICE), create_graph=True, only_inputs=True)[0]\n",
    "    d2VdS2 = grads2nd[:, 1].view(-1, 1)\n",
    "    S1 = X1[:, 1].view(-1, 1)\n",
    "    bs_pde = dVdt + (0.5 * ((sigma * S1) ** 2) * d2VdS2) + (r * S1 * dVdS) - (r * y1_hat)\n",
    "    loss2 = physics_lr * nn.MSELoss()(bs_pde, torch.zeros_like(bs_pde))\n",
    "\n",
    "    # Backpropagate joint loss\n",
    "    loss = loss1 + loss2\n",
    "    loss_history[\"total_loss\"].append(loss.item())\n",
    "    loss_history[\"loss_ivp_bvp\"].append(loss1.item())\n",
    "    loss_history[\"loss_BS\"].append(loss2.item())\n",
    "    loss_history[\"loss_ivp\"].append(mse_ivp.item())\n",
    "    loss_history[\"loss_bvp1\"].append(mse_bvp1.item())\n",
    "    loss_history[\"loss_bvp2\"].append(mse_bvp2.item())\n",
    "    optimizer.zero_grad()\n",
    "    loss.backward()\n",
    "    optimizer.step()\n",
    "    \n",
    "    # Plot the result as training progresses\n",
    "    if (i + 1) % 500 == 0:\n",
    "        print(f\"Epoch {i+1}, Loss: {loss.item():.4f}\")\n",
    "    "
   ]
  },
  {
   "cell_type": "code",
   "execution_count": null,
   "metadata": {},
   "outputs": [],
   "source": [
    "import pandas as pd"
   ]
  },
  {
   "cell_type": "code",
   "execution_count": null,
   "metadata": {},
   "outputs": [],
   "source": [
    "loss_df = pd.DataFrame.from_dict(loss_history)\n",
    "ax = loss_df[[\"total_loss\"]].plot(logy=True,alpha=0.8)\n",
    "loss_df[[\"total_loss\"]].rename(columns={\"total_loss\":\"MA loss\"}).rolling(10).mean().plot(logy=True,alpha=0.8, label=\"MA\", ax = ax)\n",
    "plt.title(\"Total Training loss\")\n",
    "plt.show()"
   ]
  },
  {
   "cell_type": "code",
   "execution_count": null,
   "metadata": {},
   "outputs": [],
   "source": [
    "loss_df.rolling(10).mean().plot(logy=True,alpha=0.8, subplots = True)\n",
    "plt.sup_title(\"Training Curve for Moving Average of losses\")\n",
    "plt.show()"
   ]
  },
  {
   "cell_type": "code",
   "execution_count": null,
   "metadata": {},
   "outputs": [],
   "source": [
    "from dataloader import DataloaderEuropeanMultiDimensional\n",
    "import numpy as np\n",
    "import torch\n",
    "\n",
    "S_range = np.array([[0, 100] for i in range(5)])\n",
    "sigma = np.ones((5,5))\n",
    "\n",
    "DEVICE = torch.device(\"cuda:3\" if torch.cuda.is_available() else \"cpu\")\n",
    "tmp = DataloaderEuropeanMultiDimensional((0,1), S_range, 40, 0.04, sigma, DEVICE)\n",
    "\n",
    "expiry_x_tensor_validation, expiry_y_tensor_validation = tmp.get_expiry_time_tensor(100, 1)\n",
    "lower_x_tensor_validation, lower_y_tensor_validation, upper_x_tensor_validation, upper_y_tensor_validation = tmp.get_boundary_data_tensor(\n",
    "        100, 1, 1)"
   ]
  },
  {
   "cell_type": "code",
   "execution_count": 7,
   "metadata": {},
   "outputs": [],
   "source": [
    "X1_validation, y1_validation = tmp.get_pde_data_tensor(100)"
   ]
  },
  {
   "cell_type": "code",
   "execution_count": 14,
   "metadata": {},
   "outputs": [],
   "source": [
    "X1_validation = tmp.normalize(X1_validation)"
   ]
  },
  {
   "cell_type": "code",
   "execution_count": null,
   "metadata": {},
   "outputs": [],
   "source": [
    "X1_validation"
   ]
  },
  {
   "cell_type": "code",
   "execution_count": 11,
   "metadata": {},
   "outputs": [],
   "source": [
    "import numpy as np\n",
    "import matplotlib.pyplot as plt"
   ]
  },
  {
   "cell_type": "code",
   "execution_count": null,
   "metadata": {},
   "outputs": [],
   "source": [
    "X = np.load(\"results/average_loss_different_loss.npy\")\n",
    "X.shape"
   ]
  },
  {
   "cell_type": "code",
   "execution_count": null,
   "metadata": {},
   "outputs": [],
   "source": [
    "types_of_loss = [\"total_loss\"] #\"loss_boundary\",\"loss_pde\", \"loss_expiry\", \"loss_lower\", \"loss_upper\"]\n",
    "for idx, i in enumerate(types_of_loss, 5):\n",
    "    plt.plot(X[:30, idx])\n",
    "    plt.plot(X[:30, idx] + X[30:, idx])\n",
    "    plt.plot(X[:30, idx] - X[30:, idx])"
   ]
  },
  {
   "cell_type": "code",
   "execution_count": 1,
   "metadata": {},
   "outputs": [],
   "source": [
    "import torch \n",
    "from src.data_generator import DataGeneratorEuropean1D\n",
    "import rff\n",
    "import numpy as np"
   ]
  },
  {
   "cell_type": "code",
   "execution_count": 2,
   "metadata": {},
   "outputs": [],
   "source": [
    "DEVICE = torch.device(\"cuda:0\" if torch.cuda.is_available() else \"cpu\")\n",
    "dataloader = DataGeneratorEuropean1D([0,1], [0,200], 40, 0.05, 0.5, DEVICE)"
   ]
  },
  {
   "cell_type": "code",
   "execution_count": null,
   "metadata": {},
   "outputs": [],
   "source": [
    "X, y1 = dataloader.get_pde_data_tensor(128)\n",
    "encoding = rff.layers.GaussianEncoding(sigma=10.0, input_size=2, encoded_size=256).to(DEVICE)\n",
    "X_e = encoding(X)\n",
    "print(X_e.shape)\n",
    "X = dataloader.normalize(X)\n",
    "X_s = encoding(X)\n",
    "print(X_s)"
   ]
  },
  {
   "cell_type": "code",
   "execution_count": 14,
   "metadata": {},
   "outputs": [],
   "source": [
    "import matplotlib.pyplot as plt"
   ]
  },
  {
   "cell_type": "code",
   "execution_count": null,
   "metadata": {},
   "outputs": [],
   "source": [
    "plt.plot(X_e[:,0].to(\"cpu\").detach())\n",
    "plt.plot(X_s[:,0].to(\"cpu\").detach() + 2)"
   ]
  },
  {
   "cell_type": "code",
   "execution_count": null,
   "metadata": {},
   "outputs": [],
   "source": [
    "print(torch.max(X_e), torch.min(X_e))\n",
    "print(torch.max(X_s), torch.min(X_s))"
   ]
  },
  {
   "cell_type": "code",
   "execution_count": null,
   "metadata": {},
   "outputs": [],
   "source": [
    "import numpy as np\n",
    "X1 = np.loadtxt(\"results/mse_data_with_fourier.txt\")\n",
    "print(f\"{X1.mean():e}\")\n",
    "print(f\"{X1.std():e}\")\n",
    "print(f\"{X1.max():e}\")"
   ]
  },
  {
   "cell_type": "code",
   "execution_count": null,
   "metadata": {},
   "outputs": [],
   "source": [
    "X2 = np.loadtxt(\"results/rmse_data_no_fourier.txt\")\n",
    "print(f\"{X2.mean():e}\")\n",
    "print(f\"{X2.std():e}\")"
   ]
  },
  {
   "cell_type": "code",
   "execution_count": null,
   "metadata": {},
   "outputs": [],
   "source": [
    "(X2.mean() / X1.mean())**2"
   ]
  },
  {
   "cell_type": "code",
   "execution_count": 1,
   "metadata": {},
   "outputs": [],
   "source": [
    "import matplotlib.pyplot as plt\n",
    "import numpy as np"
   ]
  },
  {
   "cell_type": "code",
   "execution_count": null,
   "metadata": {},
   "outputs": [],
   "source": [
    "X = np.load(\"data/european_one_dimensional_train.npy\")\n",
    "X.shape"
   ]
  },
  {
   "cell_type": "code",
   "execution_count": null,
   "metadata": {},
   "outputs": [],
   "source": [
    "plt.scatter(X[:,0], X[:,1], c = X[:, 2])\n",
    "plt.colorbar()"
   ]
  },
  {
   "cell_type": "code",
   "execution_count": 7,
   "metadata": {},
   "outputs": [
    {
     "data": {
      "text/plain": [
       "<matplotlib.legend.Legend at 0x7f9b468bbec0>"
      ]
     },
     "execution_count": 7,
     "metadata": {},
     "output_type": "execute_result"
    },
    {
     "data": {
      "image/png": "[encoded data removed]",
      "text/plain": [
       "<Figure size 640x480 with 1 Axes>"
      ]
     },
     "metadata": {},
     "output_type": "display_data"
    }
   ],
   "source": [
    "X = np.load(\"important_results_backwards/sigmas_test.npy\")\n",
    "weights = [1e-4, 1e-3, 1e-2, 1e-1, 1.0, 10, 100, 1000]\n",
    "for i in range(X.shape[0]):\n",
    "    plt.plot(X[i, :], label = f\"{weights[i]}\")\n",
    "\n",
    "plt.ylim([0, 0.6])\n",
    "#plt.yscale(\"log\")\n",
    "plt.legend()"
   ]
  },
  {
   "cell_type": "code",
   "execution_count": null,
   "metadata": {},
   "outputs": [],
   "source": [
    "\n"
   ]
  },
  {
   "cell_type": "code",
   "execution_count": null,
   "metadata": {},
   "outputs": [],
   "source": []
  }
 ],
 "metadata": {
  "kernelspec": {
   "display_name": "Python 3",
   "language": "python",
   "name": "python3"
  },
  "language_info": {
   "codemirror_mode": {
    "name": "ipython",
    "version": 3
   },
   "file_extension": ".py",
   "mimetype": "text/x-python",
   "name": "python",
   "nbconvert_exporter": "python",
   "pygments_lexer": "ipython3",
   "version": "3.12.4"
  }
 },
 "nbformat": 4,
 "nbformat_minor": 2
}
