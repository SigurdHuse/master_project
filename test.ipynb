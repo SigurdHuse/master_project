{
 "cells": [
  {
   "cell_type": "code",
   "execution_count": null,
   "metadata": {},
   "outputs": [],
   "source": [
    "from PINN import PINN\n",
    "from dataloader import DataloaderEuropean1D\n",
    "import torch\n",
    "\n",
    "import logging\n",
    "from datetime import datetime\n",
    "\n",
    "N_EPOCH = 4_000\n",
    "LEARNING_RATE = 1e-5\n",
    "HIDDEN_LAYER = 6\n",
    "HIDDEN_WIDTH = 256\n",
    "N_sample = 8000\n",
    "PHYSICS_PENALTY = 52\n",
    "BVP1_PENALTY = 8\n",
    "DEVICE = torch.device(\"cuda:6\" if torch.cuda.is_available() else \"cpu\")\n",
    "torch.set_default_device(DEVICE)\n",
    "\n",
    "K = 40\n",
    "r = 0.05\n",
    "sigma = 0.2\n",
    "T = 1\n",
    "S_range = [0, 160]\n",
    "t_range = [0, T]\n",
    "\n",
    "euro_call_data = DataloaderEuropean1D(t_range, S_range, K, r, sigma, DEVICE)\n"
   ]
  },
  {
   "cell_type": "code",
   "execution_count": null,
   "metadata": {},
   "outputs": [],
   "source": [
    "physics_lr = PHYSICS_PENALTY\n",
    "optimizer = torch.optim.Adam(model.parameters(),lr=LEARNING_RATE)\n",
    "\n",
    "loss_history={\n",
    "    \"total_loss\":[],\"loss_ivp_bvp\":[],\"loss_BS\":[],\\\n",
    "    \"loss_bvp1\":[],\"loss_bvp2\":[],\"loss_ivp\":[],\n",
    "}\n"
   ]
  },
  {
   "cell_type": "code",
   "execution_count": null,
   "metadata": {},
   "outputs": [],
   "source": [
    "import torch\n",
    "import torch.autograd as tgrad\n",
    "import numpy as np\n",
    "import matplotlib.pyplot as plt\n",
    "import torch.nn as nn"
   ]
  },
  {
   "cell_type": "code",
   "execution_count": null,
   "metadata": {},
   "outputs": [],
   "source": [
    "r_ivp,r_bvp1,r_bvp2 = 1,1,1\n",
    "for i in range(N_EPOCH):\n",
    "    model.train();\n",
    "    # Get IVP data\n",
    "    ivp_x_tensor,ivp_y_tensor = euro_call_data.get_expiry_time_tensor(N_sample,r_ivp)\n",
    "    print(ivp_y_tensor)\n",
    "    ivp_x_tensor = ivp_x_tensor.to(DEVICE)\n",
    "    ivp_y_tensor = ivp_y_tensor.to(DEVICE)\n",
    "    # ivp_x_tensor = euro_call_data.normalize(ivp_x_tensor)\n",
    "    ivp_y_pred = model(ivp_x_tensor)\n",
    "    mse_ivp = nn.MSELoss()(ivp_y_tensor, ivp_y_pred)\n",
    "\n",
    "    # Get BVP data\n",
    "    bvp_x1_tensor,bvp_y1_tensor,bvp_x2_tensor,bvp_y2_tensor = euro_call_data.get_boundary_data_tensor(N_sample,r_bvp1,r_bvp2)\n",
    "    bvp_x1_tensor,bvp_y1_tensor = bvp_x1_tensor.to(DEVICE),bvp_y1_tensor.to(DEVICE)\n",
    "    bvp_x2_tensor,bvp_y2_tensor = bvp_x2_tensor.to(DEVICE),bvp_y2_tensor.to(DEVICE)\n",
    "    # bvp_x1_tensor = euro_call_data.normalize(bvp_x1_tensor)\n",
    "    bvp_y1_pred = model(bvp_x1_tensor)\n",
    "    mse_bvp1 = nn.MSELoss()(bvp_y1_tensor, bvp_y1_pred)\n",
    "    # bvp_x2_tensor = euro_call_data.normalize(bvp_x2_tensor)\n",
    "    bvp_y2_pred = model(bvp_x2_tensor)\n",
    "    mse_bvp2 = nn.MSELoss()(bvp_y2_tensor, bvp_y2_pred)\n",
    "\n",
    "    # Aggregate the \"data loss\"\n",
    "    loss1 = mse_ivp + BVP1_PENALTY*mse_bvp1 + mse_bvp2\n",
    "\n",
    "    # Compute the \"Black-Scholes loss\"\n",
    "    X1,y1 = euro_call_data.get_pde_data(N_sample)\n",
    "    X1 = torch.from_numpy(X1).float().requires_grad_().to(DEVICE)\n",
    "    y1 = torch.from_numpy(y1).float().to(DEVICE)\n",
    "    y1_hat = model(X1)\n",
    "    grads = torch.autograd.grad(y1_hat, X1, grad_outputs=torch.ones(y1_hat.shape).to(DEVICE), retain_graph=True, create_graph=True, only_inputs=True)[0]\n",
    "    dVdt, dVdS = grads[:, 0].view(-1, 1), grads[:, 1].view(-1, 1)\n",
    "    grads2nd = torch.autograd.grad(dVdS, X1, grad_outputs=torch.ones(dVdS.shape).to(DEVICE), create_graph=True, only_inputs=True)[0]\n",
    "    d2VdS2 = grads2nd[:, 1].view(-1, 1)\n",
    "    S1 = X1[:, 1].view(-1, 1)\n",
    "    bs_pde = dVdt + (0.5 * ((sigma * S1) ** 2) * d2VdS2) + (r * S1 * dVdS) - (r * y1_hat)\n",
    "    loss2 = physics_lr * nn.MSELoss()(bs_pde, torch.zeros_like(bs_pde))\n",
    "\n",
    "    # Backpropagate joint loss\n",
    "    loss = loss1 + loss2\n",
    "    loss_history[\"total_loss\"].append(loss.item())\n",
    "    loss_history[\"loss_ivp_bvp\"].append(loss1.item())\n",
    "    loss_history[\"loss_BS\"].append(loss2.item())\n",
    "    loss_history[\"loss_ivp\"].append(mse_ivp.item())\n",
    "    loss_history[\"loss_bvp1\"].append(mse_bvp1.item())\n",
    "    loss_history[\"loss_bvp2\"].append(mse_bvp2.item())\n",
    "    optimizer.zero_grad()\n",
    "    loss.backward()\n",
    "    optimizer.step()\n",
    "    \n",
    "    # Plot the result as training progresses\n",
    "    if (i + 1) % 500 == 0:\n",
    "        print(f\"Epoch {i+1}, Loss: {loss.item():.4f}\")\n",
    "    "
   ]
  },
  {
   "cell_type": "code",
   "execution_count": null,
   "metadata": {},
   "outputs": [],
   "source": [
    "import pandas as pd"
   ]
  },
  {
   "cell_type": "code",
   "execution_count": null,
   "metadata": {},
   "outputs": [],
   "source": [
    "loss_df = pd.DataFrame.from_dict(loss_history)\n",
    "ax = loss_df[[\"total_loss\"]].plot(logy=True,alpha=0.8)\n",
    "loss_df[[\"total_loss\"]].rename(columns={\"total_loss\":\"MA loss\"}).rolling(10).mean().plot(logy=True,alpha=0.8, label=\"MA\", ax = ax)\n",
    "plt.title(\"Total Training loss\")\n",
    "plt.show()"
   ]
  },
  {
   "cell_type": "code",
   "execution_count": null,
   "metadata": {},
   "outputs": [],
   "source": [
    "loss_df.rolling(10).mean().plot(logy=True,alpha=0.8, subplots = True)\n",
    "plt.sup_title(\"Training Curve for Moving Average of losses\")\n",
    "plt.show()"
   ]
  },
  {
   "cell_type": "code",
   "execution_count": null,
   "metadata": {},
   "outputs": [],
   "source": [
    "from dataloader import DataloaderEuropeanMultiDimensional\n",
    "import numpy as np\n",
    "import torch\n",
    "\n",
    "S_range = np.array([[0, 100] for i in range(5)])\n",
    "sigma = np.ones((5,5))\n",
    "\n",
    "DEVICE = torch.device(\"cuda:3\" if torch.cuda.is_available() else \"cpu\")\n",
    "tmp = DataloaderEuropeanMultiDimensional((0,1), S_range, 40, 0.04, sigma, DEVICE)\n",
    "\n",
    "expiry_x_tensor_validation, expiry_y_tensor_validation = tmp.get_expiry_time_tensor(100, 1)\n",
    "lower_x_tensor_validation, lower_y_tensor_validation, upper_x_tensor_validation, upper_y_tensor_validation = tmp.get_boundary_data_tensor(\n",
    "        100, 1, 1)"
   ]
  },
  {
   "cell_type": "code",
   "execution_count": null,
   "metadata": {},
   "outputs": [],
   "source": [
    "X1_validation, y1_validation = tmp.get_pde_data_tensor(100)"
   ]
  },
  {
   "cell_type": "code",
   "execution_count": null,
   "metadata": {},
   "outputs": [],
   "source": [
    "X1_validation = tmp.normalize(X1_validation)"
   ]
  },
  {
   "cell_type": "code",
   "execution_count": null,
   "metadata": {},
   "outputs": [],
   "source": [
    "X1_validation"
   ]
  },
  {
   "cell_type": "code",
   "execution_count": null,
   "metadata": {},
   "outputs": [],
   "source": [
    "import numpy as np\n",
    "import matplotlib.pyplot as plt"
   ]
  },
  {
   "cell_type": "code",
   "execution_count": null,
   "metadata": {},
   "outputs": [],
   "source": [
    "X = np.load(\"results/average_loss_different_loss.npy\")\n",
    "X.shape"
   ]
  },
  {
   "cell_type": "code",
   "execution_count": null,
   "metadata": {},
   "outputs": [],
   "source": [
    "types_of_loss = [\"total_loss\"] #\"loss_boundary\",\"loss_pde\", \"loss_expiry\", \"loss_lower\", \"loss_upper\"]\n",
    "for idx, i in enumerate(types_of_loss, 5):\n",
    "    plt.plot(X[:30, idx])\n",
    "    plt.plot(X[:30, idx] + X[30:, idx])\n",
    "    plt.plot(X[:30, idx] - X[30:, idx])"
   ]
  },
  {
   "cell_type": "code",
   "execution_count": null,
   "metadata": {},
   "outputs": [],
   "source": [
    "import torch \n",
    "from src.data_generator import DataGeneratorEuropean1D\n",
    "import rff\n",
    "import numpy as np"
   ]
  },
  {
   "cell_type": "code",
   "execution_count": null,
   "metadata": {},
   "outputs": [],
   "source": [
    "DEVICE = torch.device(\"cuda:0\" if torch.cuda.is_available() else \"cpu\")\n",
    "dataloader = DataGeneratorEuropean1D([0,1], [0,200], 40, 0.05, 0.5, DEVICE)"
   ]
  },
  {
   "cell_type": "code",
   "execution_count": null,
   "metadata": {},
   "outputs": [],
   "source": [
    "X, y1 = dataloader.get_pde_data_tensor(128)\n",
    "encoding = rff.layers.GaussianEncoding(sigma=10.0, input_size=2, encoded_size=256).to(DEVICE)\n",
    "X_e = encoding(X)\n",
    "print(X_e.shape)\n",
    "X = dataloader.normalize(X)\n",
    "X_s = encoding(X)\n",
    "print(X_s)"
   ]
  },
  {
   "cell_type": "code",
   "execution_count": null,
   "metadata": {},
   "outputs": [],
   "source": [
    "import matplotlib.pyplot as plt"
   ]
  },
  {
   "cell_type": "code",
   "execution_count": null,
   "metadata": {},
   "outputs": [],
   "source": [
    "plt.plot(X_e[:,0].to(\"cpu\").detach())\n",
    "plt.plot(X_s[:,0].to(\"cpu\").detach() + 2)"
   ]
  },
  {
   "cell_type": "code",
   "execution_count": null,
   "metadata": {},
   "outputs": [],
   "source": [
    "print(torch.max(X_e), torch.min(X_e))\n",
    "print(torch.max(X_s), torch.min(X_s))"
   ]
  },
  {
   "cell_type": "code",
   "execution_count": null,
   "metadata": {},
   "outputs": [],
   "source": [
    "import numpy as np\n",
    "X1 = np.loadtxt(\"results/mse_data_with_fourier.txt\")\n",
    "print(f\"{X1.mean():e}\")\n",
    "print(f\"{X1.std():e}\")\n",
    "print(f\"{X1.max():e}\")"
   ]
  },
  {
   "cell_type": "code",
   "execution_count": null,
   "metadata": {},
   "outputs": [],
   "source": [
    "X2 = np.loadtxt(\"results/rmse_data_no_fourier.txt\")\n",
    "print(f\"{X2.mean():e}\")\n",
    "print(f\"{X2.std():e}\")"
   ]
  },
  {
   "cell_type": "code",
   "execution_count": null,
   "metadata": {},
   "outputs": [],
   "source": [
    "(X2.mean() / X1.mean())**2"
   ]
  },
  {
   "cell_type": "code",
   "execution_count": null,
   "metadata": {},
   "outputs": [],
   "source": [
    "import matplotlib.pyplot as plt\n",
    "import numpy as np"
   ]
  },
  {
   "cell_type": "code",
   "execution_count": null,
   "metadata": {},
   "outputs": [],
   "source": [
    "X = np.load(\"results_backwards/average_sigma_backwards.npy\")\n",
    "plt.plot(X[0,:])"
   ]
  },
  {
   "cell_type": "code",
   "execution_count": null,
   "metadata": {},
   "outputs": [],
   "source": [
    "X = np.load(\"results_backwards/average_loss_backwards.npy\")\n",
    "print(X.shape)\n",
    "n = X.shape[0] // 2\n",
    "x = np.arange(0, n)\n",
    "plt.plot(x, X[:n, 1])\n",
    "plt.plot(x[1000:], X[1000:n, 0])\n",
    "plt.yscale(\"log\")"
   ]
  },
  {
   "cell_type": "code",
   "execution_count": null,
   "metadata": {},
   "outputs": [],
   "source": [
    "plt.scatter(X[:,0], X[:,1], c = X[:, 2])\n",
    "plt.colorbar()"
   ]
  },
  {
   "cell_type": "code",
   "execution_count": null,
   "metadata": {},
   "outputs": [],
   "source": [
    "X = np.load(\"important_results_backwards/sigmas_batch.npy\")\n",
    "weights = [1e-4, 1e-3, 1e-2, 1e-1, 1.0, 10, 100, 1000]\n",
    "batch_PDE=[512, 1024, 2048, 4096, 8192]\n",
    "batch_target=[8, 16, 32, 64]\n",
    "\n",
    "\n",
    "for i in range(0, 10):\n",
    "    plt.plot(X[i, :], label = f\"PDE = {batch_PDE[i // len(batch_target)]}, batch = {batch_target[i % len(batch_target)]}\")\n",
    "\n",
    "#plt.ylim([0, 0.6])\n",
    "#plt.yscale(\"log\")\n",
    "plt.legend(loc='center right', bbox_to_anchor=(1.5, 0.5))\n",
    "#plt.legend()"
   ]
  },
  {
   "cell_type": "code",
   "execution_count": null,
   "metadata": {},
   "outputs": [],
   "source": [
    "X = np.load(\"important_results_backwards/sigmas_batch_fine.npy\")\n",
    "batch_PDE=[128, 256, 512, 1024]\n",
    "batch_target=[32, 64, 96, 128]\n",
    "\n",
    "fig, ax = plt.subplots(1, 2, figsize=(12, 5))\n",
    "for i in range(min(8, X.shape[0])):\n",
    "    ax[0].plot(X[i, :], label = f\"PDE = {batch_PDE[i // len(batch_target)]}, batch = {batch_target[i % len(batch_target)]}\")\n",
    "ax[0].legend()\n",
    "\n",
    "for i in range(8, min(20, X.shape[0])):\n",
    "    ax[1].plot(X[i, :], label = f\"PDE = {batch_PDE[i // len(batch_target)]}, batch = {batch_target[i % len(batch_target)]}\")\n",
    "\n",
    "ax[1].legend(loc='center right', bbox_to_anchor=(1.5, 0.5))\n",
    "plt.show()\n",
    "#plt.ylim([0, 0.6])\n",
    "#plt.yscale(\"log\")\n",
    "#plt.legend()"
   ]
  },
  {
   "cell_type": "code",
   "execution_count": null,
   "metadata": {},
   "outputs": [],
   "source": []
  },
  {
   "cell_type": "code",
   "execution_count": null,
   "metadata": {},
   "outputs": [],
   "source": [
    "scale = [\"0.0\", \"1e-06\", \"1e-05\", \"0.0001\", \"0.001\", \"0.01\", \"0.1\", \"1.0\", \"10\", \"100\", \"1000\"]\n",
    "weights = [0.0, 1e-6, 1e-5, 1e-4, 1e-3, 1e-2, 1e-1, 1.0, 10, 100, 1000]\n",
    "for i, s in enumerate(scale):\n",
    "    X = np.load(f\"results_backwards/average_sigma_scale_{s}.npy\")\n",
    "    plt.plot(X[0], label = weights[i])\n",
    "plt.legend()"
   ]
  },
  {
   "cell_type": "code",
   "execution_count": null,
   "metadata": {},
   "outputs": [],
   "source": [
    "scale = [\"1.0\", \"10\", \"100\", \"1000\"] # [\"0.0\", \"1e-06\", \"1e-05\", \"0.0001\", \"0.001\", \"0.01\", \"0.1\", \n",
    "weights = [0.0, 1e-6, 1e-5, 1e-4, 1e-3, 1e-2, 1e-1, 1.0, 10, 100, 1000]\n",
    "\n",
    "fig, ax = plt.subplots(3,1)\n",
    "\n",
    "for s in scale:\n",
    "    X = np.load(f\"results_backwards/average_loss_scale_{s}.npy\")\n",
    "    #print(X.shape)\n",
    "    ax[0].plot(X[:10_000, 0], label = s)\n",
    "    ax[1].plot(X[:10_000, 1], label = s)\n",
    "    ax[2].plot(X[:10_000, 1] + X[:10_000, 0], label = s)\n",
    "\n",
    "ax[0].legend()\n",
    "ax[1].legend()\n",
    "ax[0].set_yscale(\"log\")\n",
    "ax[1].set_yscale(\"log\")\n",
    "ax[2].legend()\n",
    "ax[2].set_yscale(\"log\")"
   ]
  },
  {
   "cell_type": "code",
   "execution_count": 43,
   "metadata": {},
   "outputs": [
    {
     "name": "stdout",
     "output_type": "stream",
     "text": [
      "0.005625\n"
     ]
    }
   ],
   "source": [
    "from src.data_generator import DataGeneratorEuropean1D, DataGeneratorEuropeanMultiDimensional\n",
    "import numpy as np\n",
    "import matplotlib.pyplot as plt\n",
    "import torch\n",
    "DEVICE = torch.device(\"cuda:0\" if torch.cuda.is_available() else \"cpu\")\n",
    "from src.PINN import PINNforwards\n",
    "config = {}\n",
    "config[\"K\"] = 10\n",
    "config[\"t_range\"] = [0, 1]\n",
    "config[\"S_range\"] = np.array([[0, 100],\n",
    "                              [0, 90],\n",
    "                              [0, 80],\n",
    "                              [0, 70]])\n",
    "\n",
    "config[\"sigma\"] = np.array([[0.05, 0.05, 0.1, 0.15, 0.1],\n",
    "                            [0.01, 0.1, 0.05, 0.05, 0.01],\n",
    "                            [0.01, 0.05, 0.1, 0.1, 0.15],\n",
    "                            [0.05, 0.1, 0.05, 0.15, 0.1],\n",
    "                            [0.1, 0.1, 0.01, 0.05, 0.05]])\n",
    "N = 1\n",
    "config[\"sigma\"] = np.full((N,N), 0.075)\n",
    "#config[\"cov\"] = config[\"sigma\"]@config[\"sigma\"].T\n",
    "#config[\"cov_torch\"] = torch.tensor(config[\"cov\"]).to(DEVICE)\n",
    "config[\"r\"] = 0.04\n",
    "\n",
    "sigma_eff_sq = 0\n",
    "\n",
    "for j in range(config[\"sigma\"].shape[0]):\n",
    "    tmp = 0\n",
    "    for i in range(config[\"sigma\"].shape[0]):\n",
    "        tmp += config[\"sigma\"][i, j]\n",
    "    sigma_eff_sq += tmp**2\n",
    "\n",
    "sigma_eff_sq /= config[\"sigma\"].shape[0]**2\n",
    "print(sigma_eff_sq)\n",
    "# print(sigma_eff_sq)\n",
    "sigma_eff = np.sqrt(sigma_eff_sq)\n",
    "def create_validation_data(dataloader:\n",
    "                           DataGeneratorEuropean1D, N_validation: int, config: dict) -> dict:\n",
    "    w_expiry = 1\n",
    "    w_lower = 1\n",
    "    w_upper = 1\n",
    "\n",
    "    validation_data = {}\n",
    "\n",
    "    expiry_x_tensor_validation, expiry_y_tensor_validation = dataloader.get_expiry_time_tensor(\n",
    "        N_validation, w_expiry)\n",
    "    expiry_x_tensor_validation_scaled = dataloader.normalize(\n",
    "        expiry_x_tensor_validation)\n",
    "    # config[\"encoder\"](expiry_x_tensor_validation)\n",
    "\n",
    "    validation_data[\"expiry_x_tensor_validation\"] = expiry_x_tensor_validation.to(\n",
    "        DEVICE)\n",
    "    validation_data[\"expiry_x_tensor_validation_scaled\"] = expiry_x_tensor_validation_scaled.to(\n",
    "        DEVICE)\n",
    "    validation_data[\"expiry_y_tensor_validation\"] = expiry_y_tensor_validation.to(\n",
    "        DEVICE)\n",
    "\n",
    "    lower_x_tensor_validation, lower_y_tensor_validation, upper_x_tensor_validation, upper_y_tensor_validation = dataloader.get_boundary_data_tensor(\n",
    "        N_validation, w_lower, w_upper)\n",
    "    lower_x_tensor_validation_scaled = dataloader.normalize(\n",
    "        lower_x_tensor_validation)\n",
    "\n",
    "    # config[\"encoder\"](\n",
    "    #    lower_x_tensor_validation)\n",
    "    upper_x_tensor_validation_scaled = dataloader.normalize(\n",
    "        upper_x_tensor_validation)\n",
    "\n",
    "    # config[\"encoder\"](    upper_x_tensor_validation)\n",
    "\n",
    "    validation_data[\"lower_x_tensor_validation\"] = lower_x_tensor_validation.to(\n",
    "        DEVICE)\n",
    "    validation_data[\"lower_x_tensor_validation_scaled\"] = lower_x_tensor_validation_scaled.to(\n",
    "        DEVICE)\n",
    "    validation_data[\"lower_y_tensor_validation\"] = lower_y_tensor_validation.to(\n",
    "        DEVICE)\n",
    "\n",
    "    validation_data[\"upper_x_tensor_validation\"] = upper_x_tensor_validation.to(\n",
    "        DEVICE)\n",
    "    validation_data[\"upper_x_tensor_validation_scaled\"] = upper_x_tensor_validation_scaled.to(\n",
    "        DEVICE)\n",
    "    validation_data[\"upper_y_tensor_validation\"] = upper_y_tensor_validation.to(\n",
    "        DEVICE)\n",
    "\n",
    "    X1_validation, y1_validation = dataloader.get_pde_data_tensor(\n",
    "        N_validation)\n",
    "    X1_validation_scaled = dataloader.normalize(X1_validation)\n",
    "    # config[\"encoder\"](X1_validation)\n",
    "\n",
    "    validation_data[\"X1_validation\"] = X1_validation\n",
    "\n",
    "    validation_data[\"X1_validation_scaled\"] = X1_validation_scaled\n",
    "\n",
    "    validation_data[\"y1_validation\"] = y1_validation\n",
    "\n",
    "    return validation_data"
   ]
  },
  {
   "cell_type": "code",
   "execution_count": null,
   "metadata": {},
   "outputs": [],
   "source": [
    "dataloader1D = DataGeneratorEuropean1D([0,1], [0, 600], 30, 0.04, sigma_eff, DEVICE, seed = 2024)\n",
    "torch.manual_seed(2024)\n",
    "np.random.seed(2024)\n",
    "dataloaderMulti = DataGeneratorEuropeanMultiDimensional(\n",
    "        time_range=config[\"t_range\"], S_range=config[\"S_range\"], K=config[\"K\"], r=config[\"r\"], sigma=config[\"sigma\"], DEVICE=DEVICE, seed=2024)\n",
    "\n",
    "validation_data = create_validation_data(\n",
    "    dataloader=dataloaderMulti, N_validation=1024, config=config)\n",
    "\n",
    "test_data = create_validation_data(\n",
    "    dataloader=dataloaderMulti, N_validation=20_000, config=config)"
   ]
  },
  {
   "cell_type": "code",
   "execution_count": null,
   "metadata": {},
   "outputs": [],
   "source": [
    "model = PINNforwards(5, 1, 256, 4, use_fourier_transform=False, sigma_FF=5.0, encoded_size=512)\n",
    "model.load_state_dict(torch.load(\"models/learning_0.001_512.pth\", weights_only=True))\n",
    "pde_X_scaled = test_data[\"X1_validation_scaled\"]\n",
    "pde_X = test_data[\"X1_validation\"]\n",
    "\n",
    "y_pde = model(pde_X_scaled).cpu().detach().numpy().ravel()\n",
    "y1 = dataloaderMulti.get_analytical_solution(pde_X[:, 1:], pde_X[:, 0])\n",
    "\n",
    "print(np.sqrt(np.mean((y1 - y_pde)**2)))"
   ]
  },
  {
   "cell_type": "code",
   "execution_count": null,
   "metadata": {},
   "outputs": [],
   "source": [
    "y_tmp = dataloader1D.get_analytical_solution( torch.exp(torch.mean(torch.log(pde_X[:, 1:]), dim = 1)), pde_X[:, 0])\n",
    "print(np.mean(np.abs(y_tmp - y1)))"
   ]
  },
  {
   "cell_type": "code",
   "execution_count": null,
   "metadata": {},
   "outputs": [],
   "source": [
    "X_loss = np.load(\"results/loss_learning_0.001_512.npy\")\n",
    "X_validation = np.load(\"results/validation_learning_0.001_512.npy\")\n",
    "\n",
    "types_of_loss = [\"total_loss\", \"loss_boundary\",\"loss_pde\", \"loss_expiry\", \"loss_lower\", \"loss_upper\"]\n",
    "\n",
    "for i in range(len(types_of_loss)):\n",
    "    plt.plot(X_validation[::10, i], label = types_of_loss[i])\n",
    "plt.yscale(\"log\")\n",
    "plt.legend()"
   ]
  },
  {
   "cell_type": "code",
   "execution_count": null,
   "metadata": {},
   "outputs": [],
   "source": []
  },
  {
   "cell_type": "code",
   "execution_count": null,
   "metadata": {},
   "outputs": [],
   "source": [
    "X_geometric = torch.exp(torch.mean(torch.log(pde_X[:, 1:]), dim = 1))\n",
    "X_tmp = X_geometric.cpu().detach().numpy()\n",
    "time = pde_X[:, 0].cpu().detach().numpy()\n",
    "mask = np.where(time <= 1.0) \n",
    "\n",
    "#y_1d= dataloader1D.get_analytical_solution(X_geometric, pde_X[:, 0])\n",
    "plt.scatter(time[mask], X_tmp[mask], c = y1[mask])\n",
    "plt.colorbar()\n",
    "plt.show()\n",
    "plt.scatter(time[mask], X_tmp[mask], c = y_pde[mask])\n",
    "plt.colorbar()\n",
    "plt.show()"
   ]
  },
  {
   "cell_type": "code",
   "execution_count": null,
   "metadata": {},
   "outputs": [],
   "source": [
    "from matplotlib.colors import LogNorm\n",
    "mask = np.where(time <= 1.0) \n",
    "plt.scatter(time[mask], X_tmp[mask], c = np.abs(y1[mask] - y_pde[mask]), norm=LogNorm())\n",
    "#plt.scatter(time[mask], X_tmp[mask], c = y_pde[mask])\n",
    "print(np.sqrt(np.mean((y1[mask] - y_pde[mask])**2)))\n",
    "plt.colorbar()"
   ]
  },
  {
   "cell_type": "code",
   "execution_count": null,
   "metadata": {},
   "outputs": [],
   "source": [
    "pde_X = test_data[\"X1_validation\"]\n",
    "y1 = dataloaderMulti.get_analytical_solution(pde_X[:, 1:], pde_X[:, 0])\n",
    "X_geometric = torch.exp(torch.mean(torch.log(pde_X[:, 1:]), dim = 1))\n",
    "y2 = dataloader1D.get_analytical_solution(X_geometric, pde_X[:, 0])\n",
    "\n",
    "print(np.mean((y1 - y2)**2))"
   ]
  },
  {
   "cell_type": "code",
   "execution_count": null,
   "metadata": {},
   "outputs": [],
   "source": [
    "np.mean(G - X_geometric.cpu().detach().numpy())\n",
    "#X_geometric"
   ]
  },
  {
   "cell_type": "code",
   "execution_count": null,
   "metadata": {},
   "outputs": [],
   "source": [
    "tmp_X1 = X_geometric.cpu().detach()\n",
    "tmp_X2 = pde_X.cpu().detach()\n",
    "plt.scatter(tmp_X2[:, 0], tmp_X1, c = y2, label = \"1D\")\n",
    "plt.colorbar()\n",
    "plt.legend()"
   ]
  },
  {
   "cell_type": "code",
   "execution_count": null,
   "metadata": {},
   "outputs": [],
   "source": [
    "plt.scatter(tmp_X2[:, 0], tmp_X1, c = y1, label = \"Multi\")\n",
    "plt.colorbar()\n",
    "plt.legend()"
   ]
  },
  {
   "cell_type": "code",
   "execution_count": null,
   "metadata": {},
   "outputs": [],
   "source": [
    "import numpy as np\n",
    "X = np.loadtxt(\"results/rmse_data_no_fourier.txt\")\n",
    "print(f\"{X.mean():e}, {X.std():e}\")\n",
    "X = np.loadtxt(\"results/rmse_data_with_fourier.txt\")\n",
    "print(f\"{X.mean():e}, {X.std():e}\")\n",
    "X = np.loadtxt(\"results/rmse_data_american_multiple.txt\")\n",
    "print(f\"{X.mean():e}, {X.std():e}\")"
   ]
  },
  {
   "cell_type": "code",
   "execution_count": null,
   "metadata": {},
   "outputs": [],
   "source": [
    "\n",
    "for scale in [\"0.0\", \"0.1\", \"0.01\", \"0.001\", \"0.0001\",\"1e-05\", \"1e-06\", \"10\", \"100\", \"1000\", \"5000\", \"10000\"]:\n",
    "    print(f\"Scale: {scale}\")\n",
    "    X = np.loadtxt(f\"results_backwards/rmse_data_scale_{scale}.txt\")\n",
    "    print(f\"{X.mean():e}, {X.std():e}\")\n"
   ]
  },
  {
   "cell_type": "code",
   "execution_count": null,
   "metadata": {},
   "outputs": [],
   "source": [
    "import matplotlib.pyplot as plt\n",
    "import numpy as np\n",
    "\n",
    "fix, ax = plt.subplots(1,2,figsize=(12, 5))\n",
    "x = np.arange(0, 15_000, 1)\n",
    "\n",
    "for scale in [\"1e-05\", \"0.0001\", \"0.001\", \"0.0\", \"10\", \"1000\"]:\n",
    "    X_loss =  np.load(f\"results_backwards/average_loss_scale_{scale}.npy\")\n",
    "    X_loss =  X_loss[:X_loss.shape[0] // 2, :]\n",
    "\n",
    "    X_sigma =  np.load(f\"results_backwards/average_sigma_scale_{scale}.npy\")\n",
    "    X_sigma_std = X_sigma[X_sigma.shape[0]//2:, :]\n",
    "    X_sigma = X_sigma[: X_sigma.shape[0]//2, :]\n",
    "\n",
    "    ax[0].plot(x, X_loss[:, 1] + X_loss[:, 0], label = r\"$\\lambda_{PDE}$ =\" +f\"{scale}\")\n",
    "    ax[1].plot(x, X_sigma.ravel())\n",
    "    #ax[1].plot(x, X_sigma_std.ravel(), label = r\"$\\lambda_{PDE}$ =\" +f\"{scale}\")\n",
    "\n",
    "ax[1].plot(x, 0.5*np.ones(15_000), label =r\"True $\\sigma$\")\n",
    "ax[1].legend()\n",
    "ax[1].grid()\n",
    "ax[0].legend()\n",
    "ax[0].set_yscale(\"log\")\n",
    "ax[0].set_ylabel(\"Average loss\")\n",
    "ax[0].set_xlabel(\"Epoch\")\n",
    "\n",
    "ax[0].grid()\n",
    "ax[1].set_xlabel(\"Epoch\")\n",
    "ax[1].set_ylabel(r\"Average $\\sigma$\")\n",
    "plt.show()"
   ]
  },
  {
   "cell_type": "code",
   "execution_count": null,
   "metadata": {},
   "outputs": [],
   "source": [
    "fig, ax = plt.subplots(1, 2, figsize=(10, 4))\n",
    "\n",
    "X1 = np.load(\"results_backwards/sigma_scale_0.0001.npy\")\n",
    "X2 = np.load(\"results_backwards/sigma_scale_1000.npy\")\n",
    "\n",
    "for i in range(X1.shape[0]):\n",
    "    ax[0].plot(X1[i])\n",
    "    ax[1].plot(X2[i])\n",
    "print(X2[:, -5:])\n",
    "\n",
    "ax[0].set_title(r\"$\\lambda_{PDE} = 10^{-4}$\")\n",
    "ax[0].grid()\n",
    "ax[0].set_ylabel(r\"$\\sigma$\")\n",
    "ax[0].set_xlabel(\"Epoch\")\n",
    "ax[1].grid()\n",
    "ax[1].set_title(r\"$\\lambda_{PDE} = 1000$\")\n",
    "ax[1].set_ylabel(r\"$\\sigma$\")\n",
    "ax[1].set_xlabel(\"Epoch\")"
   ]
  },
  {
   "cell_type": "code",
   "execution_count": null,
   "metadata": {},
   "outputs": [],
   "source": [
    "import numpy as np \n",
    "import matplotlib.pyplot as plt \n",
    "\n",
    "X1 = np.load(\"results_backwards/average_loss_apple_data.npy\")\n",
    "X1 = np.load(\"results_backwards/average_loss_apple_data_no_lambda.npy\")\n",
    "n = X1.shape[0] //2\n",
    "#plt.plot(X1[:n, 0], label = \"PDE\")\n",
    "plt.plot(X1[:n, 1], label =\"Target\")\n",
    "plt.legend()\n",
    "plt.yscale(\"log\")"
   ]
  },
  {
   "cell_type": "code",
   "execution_count": null,
   "metadata": {},
   "outputs": [],
   "source": [
    "import numpy as np \n",
    "import matplotlib.pyplot as plt \n",
    "\n",
    "X_apple = np.load(\"data/apple_data_train.npy\")\n",
    "print(np.isnan(X_apple).any())\n",
    "plt.scatter(X_apple[:, 0], X_apple[:, 1])\n",
    "plt.show()"
   ]
  },
  {
   "cell_type": "code",
   "execution_count": null,
   "metadata": {},
   "outputs": [],
   "source": [
    "\n",
    "X = np.load(\"data/european_one_dimensional_train.npy\")\n",
    "print(X.shape)\n",
    "plt.scatter(X[:, 0], X[:, 1])"
   ]
  },
  {
   "cell_type": "code",
   "execution_count": null,
   "metadata": {},
   "outputs": [],
   "source": [
    "import numpy as np \n",
    "import matplotlib.pyplot as plt \n",
    "\n",
    "dims =  np.array(list(range(1, 11 + 1)))\n",
    "rmse = np.loadtxt(\"important_results/european_multi/RMSE_dim.txt\")\n",
    "timings = np.loadtxt(\"important_results/european_multi/timings_dim.txt\")\n",
    "\n",
    "\n",
    "fig, ax = plt.subplots(1, 2, figsize=(10, 4))\n",
    "ax[0].plot(dims, timings, label = \"Training time\", color = \"midnightblue\")\n",
    "ax[0].plot(dims, (dims + 10)**4, label = r\"$O(N^4)$\", color =\"red\")\n",
    "ax[0].legend()\n",
    "ax[0].set_xlabel(\"Dimension (N)\")\n",
    "ax[0].set_yscale(\"log\")\n",
    "ax[0].set_xscale(\"log\")\n",
    "ax[0].grid()\n",
    "\n",
    "ax[1].plot(dims, rmse, label = \"Test RMSE\")\n",
    "ax[1].plot(dims, (dims + 1)**4 - (dims + 0.999999)**4, label = r\"$O(N^4)$\")\n",
    "ax[1].set_xlabel(\"Dimension (N)\")\n",
    "ax[1].legend()\n",
    "ax[1].set_yscale(\"log\")\n",
    "ax[1].set_xscale(\"log\")\n",
    "ax[1].grid()"
   ]
  },
  {
   "cell_type": "code",
   "execution_count": null,
   "metadata": {},
   "outputs": [],
   "source": [
    "import numpy as np \n",
    "import matplotlib.pyplot as plt \n",
    "\n",
    "loss = np.load(\"results_backwards/average_loss_apple_data_4.npy\")\n",
    "n = loss.shape[0] // 2\n",
    "print(loss)\n",
    "#plt.plot(loss[1000:n, 0])\n",
    "#plt.plot(loss[:n, 1])\n",
    "plt.plot(loss[2000:n,0])\n",
    "plt.yscale(\"log\")"
   ]
  }
 ],
 "metadata": {
  "kernelspec": {
   "display_name": "Python 3",
   "language": "python",
   "name": "python3"
  },
  "language_info": {
   "codemirror_mode": {
    "name": "ipython",
    "version": 3
   },
   "file_extension": ".py",
   "mimetype": "text/x-python",
   "name": "python",
   "nbconvert_exporter": "python",
   "pygments_lexer": "ipython3",
   "version": "3.12.4"
  }
 },
 "nbformat": 4,
 "nbformat_minor": 2
}
